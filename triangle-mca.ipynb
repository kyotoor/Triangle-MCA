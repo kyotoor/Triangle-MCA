{
 "cells": [
  {
   "cell_type": "code",
   "execution_count": 7,
   "id": "18e59385-9dcc-4875-8a50-063d6ec94121",
   "metadata": {},
   "outputs": [],
   "source": [
    "import numpy as np\n",
    "import matplotlib.pyplot as plt\n",
    "import pandas as pd\n",
    "import os"
   ]
  },
  {
   "cell_type": "code",
   "execution_count": 8,
   "id": "4861cc79-2352-44e6-af2e-412c89e954d4",
   "metadata": {},
   "outputs": [],
   "source": [
    "data_path = './data/cic_araki_portmap.csv'"
   ]
  },
  {
   "cell_type": "code",
   "execution_count": 9,
   "id": "29e87fbd-0637-47f5-b33b-8bf1c7134fd6",
   "metadata": {},
   "outputs": [],
   "source": [
    "header = True # If data has the header, it will be False\n",
    "label_index = -1 # If label comes last index, then -1.\n",
    "train_size = 0.2 # Train size"
   ]
  },
  {
   "cell_type": "code",
   "execution_count": 10,
   "id": "4d243eb5-25c8-4195-8eb9-146d238042aa",
   "metadata": {},
   "outputs": [],
   "source": [
    "# Data Read \n",
    "def read_data(data_path):\n",
    "    if header == True:\n",
    "        data = pd.read_csv(data_path)\n",
    "    else:\n",
    "        data = pd.read_csv(data_path, header = None)\n",
    "    data = data.to_numpy()\n",
    "    return data"
   ]
  },
  {
   "cell_type": "code",
   "execution_count": 11,
   "id": "55410349-b854-4ca4-8ef8-a7a9f79ee7db",
   "metadata": {},
   "outputs": [],
   "source": [
    "# Count the amount of normal(benign) traffic\n",
    "def count(string, data):\n",
    "    count = 0\n",
    "    for i in range(0, data.shape[0], 1):\n",
    "        if data[i, label_index] == string:\n",
    "            count = count + 1\n",
    "    return count"
   ]
  },
  {
   "cell_type": "code",
   "execution_count": 12,
   "id": "71613d55-bec7-4149-8d0f-f54c3507a10d",
   "metadata": {},
   "outputs": [],
   "source": [
    "# See how many Normal traffic and attack data in the data.\n",
    "def overview(data):\n",
    "    normal_size = count(0., data)\n",
    "    attack_size = count(1., data)\n",
    "    print(\"Whole normal instances :\", normal_size)\n",
    "    print(\"Whole attack instances :\", attack_size)\n",
    "    return None"
   ]
  },
  {
   "cell_type": "code",
   "execution_count": 13,
   "id": "b2c5b99c-c71c-46a2-ac8a-80726d3ca0dc",
   "metadata": {},
   "outputs": [],
   "source": [
    "# Pick the spetific traffic\n",
    "def pick(string, data):\n",
    "    print(\"Picking the samples of \" + str(string) + \"...\")\n",
    "    data_target = data[0:count(string, data), :].copy() # just initialize\n",
    "    index = 0\n",
    "    for i in range(0, data.shape[0], 1):\n",
    "        if data[i, label_index] == string:\n",
    "            data_target[index, :] = data[i, :].copy()\n",
    "            index = index + 1\n",
    "    print(\"Picked : \", data_target.shape)\n",
    "    return data_target"
   ]
  },
  {
   "cell_type": "code",
   "execution_count": 33,
   "id": "b9e3670c-9acf-4024-ab6b-6879a27c6e15",
   "metadata": {},
   "outputs": [],
   "source": [
    "# Pick the continuous features\n",
    "def reduct(data, label_index):\n",
    "    all_same = []\n",
    "    for i in range(0, data.shape[1], 1):\n",
    "        if np.all(data[:, i] == data[0, i]):\n",
    "            all_same.append(i)\n",
    "    if label_index != None:\n",
    "        all_same.append(label_index)\n",
    "    \n",
    "    data_target = np.delete(data, all_same, axis = 1) \n",
    "    data_target = data_target.astype('float32')\n",
    "    print('Reducted :', data_target.shape)\n",
    "    return data_target"
   ]
  },
  {
   "cell_type": "code",
   "execution_count": null,
   "id": "210d8d6c-35ae-4afd-8a5c-ab3cc0253204",
   "metadata": {},
   "outputs": [],
   "source": [
    "# Identifiy the features which we should reduct.\n",
    "def reduct_index(data, label_index):\n",
    "    all_same = []\n",
    "    for i in range(0, data.shape[1], 1):\n",
    "        if np.all(data[:, i] == data[0, i]):\n",
    "            all_same.append(i)\n",
    "    if label_index != None:\n",
    "        all_same.append(label_index)\n",
    "    return all_same"
   ]
  },
  {
   "cell_type": "code",
   "execution_count": 16,
   "id": "909eb67e-2a1b-4342-94b5-e7c13578b62c",
   "metadata": {},
   "outputs": [],
   "source": [
    "# Normalize\n",
    "def normalize_data(data):\n",
    "    mean = data.mean(axis = 0)\n",
    "    std = data.std(axis = 0, ddof = 1)\n",
    "    data_normalized = (data - mean) / std\n",
    "    return data_normalized, mean, std "
   ]
  },
  {
   "cell_type": "code",
   "execution_count": 17,
   "id": "cbfbb9d8-a304-4c12-b0a7-8cb79cdbb9ac",
   "metadata": {},
   "outputs": [],
   "source": [
    "# Cartesian coordinate\n",
    "def coordinate_data(data):\n",
    "    area_length = data.shape[1]\n",
    "    cov_length = int(1 / 2 * (1 + (area_length - 1)) * (area_length - 1))\n",
    "    coordinate = np.zeros((cov_length, 2), \"int8\")\n",
    "    index = 0\n",
    "    for j in range(1, area_length, 1):\n",
    "        for k in range(j, area_length, 1):\n",
    "            coordinate[index] = np.array([k, j-1])\n",
    "            index = index + 1\n",
    "    return coordinate, cov_length"
   ]
  },
  {
   "cell_type": "code",
   "execution_count": 18,
   "id": "c33ac712-80fe-423c-b785-95473c9cc76d",
   "metadata": {},
   "outputs": [],
   "source": [
    "# TAM lower\n",
    "def tam_lower(data):\n",
    "    tam = np.zeros((data.shape[0], cov_length),  \"float32\")\n",
    "    for i in range(0, data.shape[0], 1):\n",
    "        for j in range(0, cov_length, 1):\n",
    "            tam[i, j] = data[i, coordinate[j, 0]].copy() * data[i, coordinate[j, 1]].copy() / 2\n",
    "    return tam"
   ]
  },
  {
   "cell_type": "code",
   "execution_count": 19,
   "id": "06115ee6-e188-46b5-a7aa-1d3bf51c1050",
   "metadata": {},
   "outputs": [],
   "source": [
    "# Calc Covariance of TAM using lower TAM.\n",
    "def covariance(tam):\n",
    "    cov = np.cov(tam, ddof = 1)\n",
    "    return cov"
   ]
  },
  {
   "cell_type": "code",
   "execution_count": 46,
   "id": "dfef54ae-9df2-4708-83c4-3d451a8e9a62",
   "metadata": {},
   "outputs": [
    {
     "name": "stdout",
     "output_type": "stream",
     "text": [
      "Whole normal instances : 4678\n",
      "Whole attack instances : 11322\n",
      "Picking the samples of 0.0...\n",
      "Picked :  (4678, 41)\n",
      "Reducted : (4678, 37)\n"
     ]
    }
   ],
   "source": [
    "# data picking\n",
    "data = read_data(data_path)\n",
    "train_data = data[:(int(data.shape[0]*train_size)), :]\n",
    "overview(train_data)\n",
    "\n",
    "# preprocess\n",
    "train_normal = pick(0., train_data)\n",
    "train_reducted = reduct(train_normal, -1)\n",
    "train_reducted_normalized, mean, std = normalize_data(train_reducted)\n",
    "\n",
    "# training\n",
    "coordinate, cov_length = coordinate_data(train_reducted_normalized)\n",
    "tam_data = tam_lower(train_reducted_normalized)\n",
    "cov = covariance(tam_data)"
   ]
  },
  {
   "cell_type": "code",
   "execution_count": null,
   "id": "4fb0a74c-6c71-4b3d-bd5a-e5073620bb68",
   "metadata": {},
   "outputs": [],
   "source": []
  },
  {
   "cell_type": "code",
   "execution_count": 44,
   "id": "325b03b9-3b31-4981-8b32-9603a295ea1f",
   "metadata": {},
   "outputs": [
    {
     "name": "stdout",
     "output_type": "stream",
     "text": [
      "Whole normal instances : 8\n",
      "Whole attack instances : 63992\n",
      "(64000, 37)\n"
     ]
    }
   ],
   "source": [
    "# evaluation\n",
    "test_data = data[(int(data.shape[0]*train_size)):, :]\n",
    "overview(test_data)\n",
    "\n",
    "# preprocess\n",
    "test_normal = pick(0., test_data)\n",
    "test_attack = pick(0., test_data)\n",
    "test_reducted = np.delete(test_data, reduct_index(train, -1), 1)\n",
    "print(test_reducted .shape)"
   ]
  },
  {
   "cell_type": "code",
   "execution_count": null,
   "id": "62697f0e-a1fb-4f7c-bdb9-f8cbe317e616",
   "metadata": {},
   "outputs": [],
   "source": []
  }
 ],
 "metadata": {
  "kernelspec": {
   "display_name": "Python 3 (ipykernel)",
   "language": "python",
   "name": "python3"
  },
  "language_info": {
   "codemirror_mode": {
    "name": "ipython",
    "version": 3
   },
   "file_extension": ".py",
   "mimetype": "text/x-python",
   "name": "python",
   "nbconvert_exporter": "python",
   "pygments_lexer": "ipython3",
   "version": "3.9.6"
  }
 },
 "nbformat": 4,
 "nbformat_minor": 5
}
